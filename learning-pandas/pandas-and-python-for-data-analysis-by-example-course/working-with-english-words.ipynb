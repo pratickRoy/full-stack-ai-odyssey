{
 "cells": [
  {
   "cell_type": "markdown",
   "id": "500b86c3ac5e9605",
   "metadata": {
    "collapsed": false
   },
   "source": [
    "[Course Link](https://www.youtube.com/watch?v=gtjxAH8uaP0&t=142s)"
   ]
  },
  {
   "cell_type": "code",
   "execution_count": null,
   "id": "7d24cb876b3fd39d",
   "metadata": {
    "ExecuteTime": {
     "end_time": "2023-11-28T10:08:35.637480Z",
     "start_time": "2023-11-28T10:05:51.198308Z"
    },
    "collapsed": false
   },
   "outputs": [],
   "source": [
    "!pip install pandas==2.1.3 --force-reinstall"
   ]
  },
  {
   "cell_type": "code",
   "execution_count": null,
   "id": "initial_id",
   "metadata": {
    "ExecuteTime": {
     "end_time": "2023-11-28T10:08:35.740459Z",
     "start_time": "2023-11-28T10:08:35.596905Z"
    },
    "collapsed": false
   },
   "outputs": [],
   "source": [
    "import pandas"
   ]
  },
  {
   "cell_type": "code",
   "execution_count": null,
   "id": "ca892ed36b5ff017",
   "metadata": {
    "ExecuteTime": {
     "end_time": "2023-11-28T10:08:35.927699Z",
     "start_time": "2023-11-28T10:08:35.606600Z"
    },
    "collapsed": false
   },
   "outputs": [],
   "source": [
    "dataframe = pandas.read_csv('words.csv')"
   ]
  },
  {
   "cell_type": "code",
   "execution_count": null,
   "id": "483cdcd71d88d0fd",
   "metadata": {
    "ExecuteTime": {
     "end_time": "2023-11-28T10:08:36.112137Z",
     "start_time": "2023-11-28T10:08:35.919543Z"
    },
    "collapsed": false
   },
   "outputs": [],
   "source": [
    "dataframe.head()"
   ]
  },
  {
   "cell_type": "code",
   "execution_count": null,
   "id": "22c3e06e6b73a2ac",
   "metadata": {
    "ExecuteTime": {
     "end_time": "2023-11-28T10:08:36.717240Z",
     "start_time": "2023-11-28T10:08:35.986779Z"
    },
    "collapsed": false
   },
   "outputs": [],
   "source": [
    "dataframe = pandas.read_csv('words.csv', index_col='Word')"
   ]
  },
  {
   "cell_type": "code",
   "execution_count": null,
   "id": "10ef4d6518c12267",
   "metadata": {
    "ExecuteTime": {
     "end_time": "2023-11-28T10:08:37.135768Z",
     "start_time": "2023-11-28T10:08:36.700068Z"
    },
    "collapsed": false
   },
   "outputs": [],
   "source": [
    "dataframe.head()"
   ]
  },
  {
   "cell_type": "markdown",
   "id": "18adf26156ad700a",
   "metadata": {
    "collapsed": false
   },
   "source": [
    "### Activities"
   ]
  },
  {
   "cell_type": "markdown",
   "id": "1e83848d287896dd",
   "metadata": {
    "collapsed": false
   },
   "source": [
    "##### 1. How many elements does this dataframe have?"
   ]
  },
  {
   "cell_type": "code",
   "execution_count": null,
   "id": "c83403c6a8d42bb4",
   "metadata": {
    "ExecuteTime": {
     "end_time": "2023-11-28T10:08:37.188167Z",
     "start_time": "2023-11-28T10:08:36.717578Z"
    },
    "collapsed": false
   },
   "outputs": [],
   "source": [
    "len(dataframe)"
   ]
  },
  {
   "cell_type": "code",
   "execution_count": null,
   "id": "eb0fd57618590bc5",
   "metadata": {
    "ExecuteTime": {
     "end_time": "2023-11-28T10:08:37.231997Z",
     "start_time": "2023-11-28T10:08:36.729793Z"
    },
    "collapsed": false
   },
   "outputs": [],
   "source": [
    "dataframe.info()"
   ]
  },
  {
   "cell_type": "code",
   "execution_count": null,
   "id": "de8e87b524cdd41e",
   "metadata": {
    "ExecuteTime": {
     "end_time": "2023-11-28T10:08:37.232471Z",
     "start_time": "2023-11-28T10:08:36.761697Z"
    },
    "collapsed": false
   },
   "outputs": [],
   "source": [
    "dataframe.shape"
   ]
  },
  {
   "cell_type": "markdown",
   "id": "9f51db836d5cd4c3",
   "metadata": {
    "collapsed": false
   },
   "source": [
    "##### 2. What is the value of the word `microspectrophotometries`?"
   ]
  },
  {
   "cell_type": "code",
   "execution_count": null,
   "id": "1785199f3a73586a",
   "metadata": {
    "ExecuteTime": {
     "end_time": "2023-11-28T10:08:37.234072Z",
     "start_time": "2023-11-28T10:08:36.959610Z"
    },
    "collapsed": false
   },
   "outputs": [],
   "source": [
    "dataframe[\"Value\"].get('microspectrophotometries')"
   ]
  },
  {
   "cell_type": "code",
   "execution_count": null,
   "id": "f49cc9ae6eb332d3",
   "metadata": {
    "ExecuteTime": {
     "end_time": "2023-11-28T10:08:37.262276Z",
     "start_time": "2023-11-28T10:08:36.960219Z"
    },
    "collapsed": false
   },
   "outputs": [],
   "source": [
    "dataframe.loc['microspectrophotometries', 'Value']"
   ]
  },
  {
   "cell_type": "markdown",
   "id": "aeedc1efe5baf804",
   "metadata": {
    "collapsed": false
   },
   "source": [
    "##### 3. What is the highest possible value of a word?"
   ]
  },
  {
   "cell_type": "code",
   "execution_count": null,
   "id": "3807c716f20f679",
   "metadata": {
    "ExecuteTime": {
     "end_time": "2023-11-28T10:08:37.262823Z",
     "start_time": "2023-11-28T10:08:37.092268Z"
    },
    "collapsed": false
   },
   "outputs": [],
   "source": [
    "dataframe[\"Value\"].get(dataframe[\"Value\"].idxmax())"
   ]
  },
  {
   "cell_type": "code",
   "execution_count": null,
   "id": "efe4b9b18332fea0",
   "metadata": {
    "ExecuteTime": {
     "end_time": "2023-11-28T10:08:37.263894Z",
     "start_time": "2023-11-28T10:08:37.123333Z"
    },
    "collapsed": false
   },
   "outputs": [],
   "source": [
    "dataframe[\"Value\"].max()"
   ]
  },
  {
   "cell_type": "code",
   "execution_count": null,
   "id": "e2f1d2bc6e59c1e6",
   "metadata": {
    "ExecuteTime": {
     "end_time": "2023-11-28T10:08:37.365853Z",
     "start_time": "2023-11-28T10:08:37.175509Z"
    },
    "collapsed": false
   },
   "outputs": [],
   "source": [
    "dataframe.max()[\"Value\"]"
   ]
  },
  {
   "cell_type": "code",
   "execution_count": null,
   "id": "b65b5555b618452c",
   "metadata": {
    "ExecuteTime": {
     "end_time": "2023-11-28T10:08:38.432940Z",
     "start_time": "2023-11-28T10:08:37.202508Z"
    },
    "collapsed": false
   },
   "outputs": [],
   "source": [
    "print(dataframe.describe())\n",
    "dataframe.describe()[\"Value\"].loc[\"max\"]"
   ]
  },
  {
   "cell_type": "code",
   "execution_count": null,
   "id": "2f19643ba94471fb",
   "metadata": {
    "ExecuteTime": {
     "end_time": "2023-11-28T10:08:38.533993Z",
     "start_time": "2023-11-28T10:08:37.280358Z"
    },
    "collapsed": false
   },
   "outputs": [],
   "source": [
    "print(dataframe.sort_values(by = ['Value'], ascending = False))\n",
    "print(dataframe.sort_values(by = ['Value'], ascending = False).iloc[0])\n",
    "dataframe.sort_values(by = ['Value'], ascending = False).iloc[0].Value"
   ]
  },
  {
   "cell_type": "markdown",
   "id": "22f141a56d83e931",
   "metadata": {
    "collapsed": false
   },
   "source": [
    "##### 4. Which of the following words have a Char Count of `7` and a Value of `87`?\n",
    "\n",
    "- enfold\n",
    "- superheterodyne\n",
    "- glowing\n",
    "- microbrew\n",
    "- pinfish"
   ]
  },
  {
   "cell_type": "code",
   "execution_count": null,
   "id": "e2ce9a63ebdc6402",
   "metadata": {
    "ExecuteTime": {
     "end_time": "2023-11-28T10:08:38.534603Z",
     "start_time": "2023-11-28T10:08:37.557244Z"
    },
    "collapsed": false
   },
   "outputs": [],
   "source": [
    "dataframe.loc[[\"enfold\", \"superheterodyne\", \"glowing\", \"microbrew\", \"pinfish\"]][(dataframe['Char Count'] == 7) & (dataframe['Value'] == 87)].index.tolist()[0]"
   ]
  },
  {
   "cell_type": "code",
   "execution_count": null,
   "id": "a60c58acb3ee24bc",
   "metadata": {
    "ExecuteTime": {
     "end_time": "2023-11-28T10:08:38.535310Z",
     "start_time": "2023-11-28T10:08:37.630833Z"
    },
    "collapsed": false
   },
   "outputs": [],
   "source": [
    "dataframe.loc[[\"enfold\", \"superheterodyne\", \"glowing\", \"microbrew\", \"pinfish\"]].query(expr='`Char Count` == 7 and `Value` == 87').index[0]"
   ]
  },
  {
   "cell_type": "markdown",
   "id": "6c11777f05ad76f2",
   "metadata": {
    "collapsed": false
   },
   "source": [
    "##### 5. What is the highest possible length of a word?"
   ]
  },
  {
   "cell_type": "code",
   "execution_count": null,
   "id": "df8076b899de595a",
   "metadata": {
    "ExecuteTime": {
     "end_time": "2023-11-28T10:08:38.535762Z",
     "start_time": "2023-11-28T10:08:37.660816Z"
    },
    "collapsed": false
   },
   "outputs": [],
   "source": [
    "dataframe['Char Count'].max()"
   ]
  },
  {
   "cell_type": "markdown",
   "id": "c7ea50f16b851263",
   "metadata": {
    "collapsed": false
   },
   "source": [
    "##### 6. What is the word with the value of 319?"
   ]
  },
  {
   "cell_type": "code",
   "execution_count": null,
   "id": "fabbb4d406823f34",
   "metadata": {
    "ExecuteTime": {
     "end_time": "2023-11-28T10:08:38.536568Z",
     "start_time": "2023-11-28T10:08:37.673277Z"
    },
    "collapsed": false
   },
   "outputs": [],
   "source": [
    "print(dataframe['Value'] == 319)\n",
    "print(dataframe[dataframe['Value'] == 319])\n",
    "dataframe[dataframe['Value'] == 319].index[0]"
   ]
  },
  {
   "cell_type": "markdown",
   "id": "e524d23e939cb3a1",
   "metadata": {
    "collapsed": false
   },
   "source": [
    "##### 7. What is the most common value?"
   ]
  },
  {
   "cell_type": "code",
   "execution_count": null,
   "id": "43cb558b887e1586",
   "metadata": {
    "ExecuteTime": {
     "end_time": "2023-11-28T10:08:38.559676Z",
     "start_time": "2023-11-28T10:08:37.688596Z"
    },
    "collapsed": false
   },
   "outputs": [],
   "source": [
    "print(dataframe['Value'].value_counts())\n",
    "dataframe['Value'].value_counts().idxmax()"
   ]
  },
  {
   "cell_type": "code",
   "execution_count": null,
   "id": "4510dddbebfba3c2",
   "metadata": {
    "ExecuteTime": {
     "end_time": "2023-11-28T10:08:38.560410Z",
     "start_time": "2023-11-28T10:08:37.720898Z"
    },
    "collapsed": false
   },
   "outputs": [],
   "source": [
    "dataframe['Value'].mode()"
   ]
  },
  {
   "cell_type": "markdown",
   "id": "383e597f770517c9",
   "metadata": {
    "collapsed": false
   },
   "source": [
    "##### 8. What is the shortest word with value `274`?"
   ]
  },
  {
   "cell_type": "code",
   "execution_count": null,
   "id": "a1662b4a60a16f3d",
   "metadata": {
    "ExecuteTime": {
     "end_time": "2023-11-28T10:08:38.561629Z",
     "start_time": "2023-11-28T10:08:37.733725Z"
    },
    "collapsed": false
   },
   "outputs": [],
   "source": [
    "print(dataframe[dataframe['Value'] == 274].idxmin())\n",
    "dataframe[dataframe['Value'] == 274].idxmin()['Char Count']"
   ]
  },
  {
   "cell_type": "code",
   "execution_count": null,
   "id": "776b4e3a497248a7",
   "metadata": {
    "ExecuteTime": {
     "end_time": "2023-11-28T10:08:38.562318Z",
     "start_time": "2023-11-28T10:08:37.750106Z"
    },
    "collapsed": false
   },
   "outputs": [],
   "source": [
    "print(dataframe[dataframe['Value'] == 274]['Char Count'])\n",
    "dataframe[dataframe['Value'] == 274]['Char Count'].idxmin()"
   ]
  },
  {
   "cell_type": "code",
   "execution_count": null,
   "id": "fa3408d016c51d5f",
   "metadata": {
    "ExecuteTime": {
     "end_time": "2023-11-28T10:08:38.563958Z",
     "start_time": "2023-11-28T10:08:37.835701Z"
    },
    "collapsed": false
   },
   "outputs": [],
   "source": [
    "print(dataframe[dataframe['Value'] == 274].sort_values(by='Char Count'))\n",
    "print(dataframe[dataframe['Value'] == 274].sort_values(by='Char Count').iloc[0])\n",
    "dataframe[dataframe['Value'] == 274].sort_values(by='Char Count').index[0]"
   ]
  },
  {
   "cell_type": "markdown",
   "id": "aa7df167574e9bfa",
   "metadata": {
    "collapsed": false
   },
   "source": [
    "##### 9. Create a column `Ratio` which represents the 'Value Ratio' of a word"
   ]
  },
  {
   "cell_type": "code",
   "execution_count": null,
   "id": "121b01340715652b",
   "metadata": {
    "ExecuteTime": {
     "end_time": "2023-11-28T10:08:38.632190Z",
     "start_time": "2023-11-28T10:08:37.877753Z"
    },
    "collapsed": false
   },
   "outputs": [],
   "source": [
    "dataframe['Ratio'] = dataframe['Value'] / dataframe['Char Count']\n",
    "dataframe"
   ]
  },
  {
   "cell_type": "markdown",
   "id": "ebff8620279ba85d",
   "metadata": {
    "collapsed": false
   },
   "source": [
    "##### 10. What is the maximum value of `Ratio`?"
   ]
  },
  {
   "cell_type": "code",
   "execution_count": null,
   "id": "b2ef9e6123855451",
   "metadata": {
    "ExecuteTime": {
     "end_time": "2023-11-28T10:08:38.632694Z",
     "start_time": "2023-11-28T10:08:37.936108Z"
    },
    "collapsed": false
   },
   "outputs": [],
   "source": [
    "dataframe['Ratio'].max()"
   ]
  },
  {
   "cell_type": "markdown",
   "id": "7295d88735fbbdff",
   "metadata": {
    "collapsed": false
   },
   "source": [
    "##### 11. What word is the one with the highest `Ratio`?"
   ]
  },
  {
   "cell_type": "code",
   "execution_count": null,
   "id": "d1eb683e00f9980e",
   "metadata": {
    "ExecuteTime": {
     "end_time": "2023-11-28T10:08:38.633117Z",
     "start_time": "2023-11-28T10:08:37.952071Z"
    },
    "collapsed": false
   },
   "outputs": [],
   "source": [
    "dataframe['Ratio'].idxmax()"
   ]
  },
  {
   "cell_type": "code",
   "execution_count": null,
   "id": "e9de17b3e477eadd",
   "metadata": {
    "ExecuteTime": {
     "end_time": "2023-11-28T10:08:38.633473Z",
     "start_time": "2023-11-28T10:08:37.974856Z"
    },
    "collapsed": false
   },
   "outputs": [],
   "source": [
    "dataframe[dataframe['Ratio'] == dataframe['Ratio'].max()].index[0]"
   ]
  },
  {
   "cell_type": "markdown",
   "id": "9eedeb67c204422e",
   "metadata": {
    "collapsed": false
   },
   "source": [
    "##### 12. How many words have a `Ratio` of `10`?"
   ]
  },
  {
   "cell_type": "code",
   "execution_count": null,
   "id": "aa8e50600c5286d5",
   "metadata": {
    "ExecuteTime": {
     "end_time": "2023-11-28T10:08:38.633925Z",
     "start_time": "2023-11-28T10:08:37.987069Z"
    },
    "collapsed": false
   },
   "outputs": [],
   "source": [
    "print(dataframe[dataframe['Ratio'] == 10])\n",
    "len(dataframe[dataframe['Ratio'] == 10])"
   ]
  },
  {
   "cell_type": "markdown",
   "id": "64abf1fe01918cc1",
   "metadata": {
    "collapsed": false
   },
   "source": [
    "##### 13. What is the maximum `Value` of all the words with a `Ratio` of `10`?"
   ]
  },
  {
   "cell_type": "code",
   "execution_count": null,
   "id": "1c2d672c303f2d8d",
   "metadata": {
    "ExecuteTime": {
     "end_time": "2023-11-28T10:08:38.634327Z",
     "start_time": "2023-11-28T10:08:38.019577Z"
    },
    "collapsed": false
   },
   "outputs": [],
   "source": [
    "dataframe[dataframe['Ratio'] == 10][\"Value\"].max()"
   ]
  },
  {
   "cell_type": "markdown",
   "id": "a4bc0d33e2a6d2de",
   "metadata": {
    "collapsed": false
   },
   "source": [
    "##### 14. Of those words with a `Value` of `260`, what is the lowest `Char Count` found?"
   ]
  },
  {
   "cell_type": "code",
   "execution_count": null,
   "id": "af407aa2d8ac2b1e",
   "metadata": {
    "ExecuteTime": {
     "end_time": "2023-11-28T10:08:38.634717Z",
     "start_time": "2023-11-28T10:08:38.134650Z"
    },
    "collapsed": false
   },
   "outputs": [],
   "source": [
    "dataframe[dataframe[\"Value\"] == 260][\"Char Count\"].min()"
   ]
  },
  {
   "cell_type": "markdown",
   "id": "f665ab53e12a39ee",
   "metadata": {
    "collapsed": false
   },
   "source": [
    "##### 15. Based on the previous task, what word is it?"
   ]
  },
  {
   "cell_type": "code",
   "execution_count": null,
   "id": "9422204d6819ebe9",
   "metadata": {
    "ExecuteTime": {
     "end_time": "2023-11-28T10:08:38.634971Z",
     "start_time": "2023-11-28T10:08:38.153328Z"
    },
    "collapsed": false
   },
   "outputs": [],
   "source": [
    "dataframe[dataframe[\"Value\"] == 260][\"Char Count\"].idxmin()"
   ]
  },
  {
   "cell_type": "markdown",
   "id": "25b424655fcd1806",
   "metadata": {
    "collapsed": false
   },
   "source": [
    "##### 16. Find all the words with Char Count > avg char"
   ]
  },
  {
   "cell_type": "code",
   "execution_count": null,
   "id": "908a337bc8dfbc8d",
   "metadata": {
    "ExecuteTime": {
     "end_time": "2023-11-28T10:08:38.653304Z",
     "start_time": "2023-11-28T10:08:38.170146Z"
    },
    "collapsed": false
   },
   "outputs": [],
   "source": [
    "print(dataframe[\"Char Count\"].mean())\n",
    "dataframe[dataframe[\"Char Count\"] > dataframe[\"Char Count\"].mean()].index.tolist()"
   ]
  },
  {
   "cell_type": "code",
   "execution_count": null,
   "id": "4e744efdc45fee32",
   "metadata": {
    "ExecuteTime": {
     "end_time": "2023-11-28T10:08:38.655256Z",
     "start_time": "2023-11-28T10:08:38.268324Z"
    },
    "collapsed": false
   },
   "outputs": [],
   "source": [
    "mean = dataframe[\"Char Count\"].mean()\n",
    "dataframe.query('`Char Count` > @mean').index.tolist()"
   ]
  }
 ],
 "metadata": {
  "kernelspec": {
   "display_name": "Python 3",
   "language": "python",
   "name": "python3"
  },
  "language_info": {
   "codemirror_mode": {
    "name": "ipython",
    "version": 2
   },
   "file_extension": ".py",
   "mimetype": "text/x-python",
   "name": "python",
   "nbconvert_exporter": "python",
   "pygments_lexer": "ipython2",
   "version": "2.7.6"
  }
 },
 "nbformat": 4,
 "nbformat_minor": 5
}
