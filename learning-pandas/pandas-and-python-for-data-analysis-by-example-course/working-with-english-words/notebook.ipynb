{
 "cells": [
  {
   "cell_type": "markdown",
   "id": "500b86c3ac5e9605",
   "metadata": {
    "collapsed": false
   },
   "source": [
    "[YouTube Course Link](https://www.youtube.com/watch?v=gtjxAH8uaP0&t=142s)\n",
    "[DataWars Course Link](https://app.datawars.io/project/637502af-b693-44d2-8a1c-0bfdd660a74a?page=1)"
   ]
  },
  {
   "cell_type": "code",
   "execution_count": null,
   "id": "7d24cb876b3fd39d",
   "metadata": {
    "collapsed": false
   },
   "outputs": [],
   "source": [
    "!pip install pandas==2.1.3 --force-reinstall"
   ]
  },
  {
   "cell_type": "code",
   "execution_count": null,
   "id": "initial_id",
   "metadata": {
    "collapsed": false
   },
   "outputs": [],
   "source": [
    "import pandas"
   ]
  },
  {
   "cell_type": "code",
   "execution_count": null,
   "id": "ca892ed36b5ff017",
   "metadata": {
    "collapsed": false
   },
   "outputs": [],
   "source": [
    "dataframe = pandas.read_csv('data.csv')"
   ]
  },
  {
   "cell_type": "code",
   "execution_count": null,
   "id": "483cdcd71d88d0fd",
   "metadata": {
    "collapsed": false
   },
   "outputs": [],
   "source": [
    "dataframe.head()"
   ]
  },
  {
   "cell_type": "code",
   "execution_count": null,
   "id": "22c3e06e6b73a2ac",
   "metadata": {
    "collapsed": false
   },
   "outputs": [],
   "source": [
    "dataframe = pandas.read_csv('data.csv', index_col='Word')"
   ]
  },
  {
   "cell_type": "code",
   "execution_count": null,
   "id": "10ef4d6518c12267",
   "metadata": {
    "collapsed": false
   },
   "outputs": [],
   "source": [
    "dataframe.head()"
   ]
  },
  {
   "cell_type": "markdown",
   "id": "18adf26156ad700a",
   "metadata": {
    "collapsed": false
   },
   "source": [
    "### Activities"
   ]
  },
  {
   "cell_type": "markdown",
   "id": "1e83848d287896dd",
   "metadata": {
    "collapsed": false
   },
   "source": [
    "##### 1. How many elements does this dataframe have?"
   ]
  },
  {
   "cell_type": "code",
   "execution_count": null,
   "id": "c83403c6a8d42bb4",
   "metadata": {
    "collapsed": false
   },
   "outputs": [],
   "source": [
    "len(dataframe)"
   ]
  },
  {
   "cell_type": "code",
   "execution_count": null,
   "id": "eb0fd57618590bc5",
   "metadata": {
    "collapsed": false
   },
   "outputs": [],
   "source": [
    "dataframe.info()"
   ]
  },
  {
   "cell_type": "code",
   "execution_count": null,
   "id": "de8e87b524cdd41e",
   "metadata": {
    "collapsed": false
   },
   "outputs": [],
   "source": [
    "dataframe.shape"
   ]
  },
  {
   "cell_type": "markdown",
   "id": "9f51db836d5cd4c3",
   "metadata": {
    "collapsed": false
   },
   "source": [
    "##### 2. What is the value of the word `microspectrophotometries`?"
   ]
  },
  {
   "cell_type": "code",
   "execution_count": null,
   "id": "1785199f3a73586a",
   "metadata": {
    "collapsed": false
   },
   "outputs": [],
   "source": [
    "dataframe[\"Value\"].get('microspectrophotometries')"
   ]
  },
  {
   "cell_type": "code",
   "execution_count": null,
   "id": "f49cc9ae6eb332d3",
   "metadata": {
    "collapsed": false
   },
   "outputs": [],
   "source": [
    "dataframe.loc['microspectrophotometries', 'Value']"
   ]
  },
  {
   "cell_type": "markdown",
   "id": "aeedc1efe5baf804",
   "metadata": {
    "collapsed": false
   },
   "source": [
    "##### 3. What is the highest possible value of a word?"
   ]
  },
  {
   "cell_type": "code",
   "execution_count": null,
   "id": "3807c716f20f679",
   "metadata": {
    "collapsed": false
   },
   "outputs": [],
   "source": [
    "dataframe[\"Value\"].get(dataframe[\"Value\"].idxmax())"
   ]
  },
  {
   "cell_type": "code",
   "execution_count": null,
   "id": "efe4b9b18332fea0",
   "metadata": {
    "collapsed": false
   },
   "outputs": [],
   "source": [
    "dataframe[\"Value\"].max()"
   ]
  },
  {
   "cell_type": "code",
   "execution_count": null,
   "id": "e2f1d2bc6e59c1e6",
   "metadata": {
    "collapsed": false
   },
   "outputs": [],
   "source": [
    "dataframe.max()[\"Value\"]"
   ]
  },
  {
   "cell_type": "code",
   "execution_count": null,
   "id": "b65b5555b618452c",
   "metadata": {
    "collapsed": false
   },
   "outputs": [],
   "source": [
    "print(dataframe.describe())\n",
    "dataframe.describe()[\"Value\"].loc[\"max\"]"
   ]
  },
  {
   "cell_type": "code",
   "execution_count": null,
   "id": "2f19643ba94471fb",
   "metadata": {
    "collapsed": false
   },
   "outputs": [],
   "source": [
    "print(dataframe.sort_values(by = ['Value'], ascending = False))\n",
    "print(dataframe.sort_values(by = ['Value'], ascending = False).iloc[0])\n",
    "dataframe.sort_values(by = ['Value'], ascending = False).iloc[0].Value"
   ]
  },
  {
   "cell_type": "markdown",
   "id": "22f141a56d83e931",
   "metadata": {
    "collapsed": false
   },
   "source": [
    "##### 4. Which of the following words have a Char Count of `7` and a Value of `87`?\n",
    "\n",
    "- enfold\n",
    "- superheterodyne\n",
    "- glowing\n",
    "- microbrew\n",
    "- pinfish"
   ]
  },
  {
   "cell_type": "code",
   "execution_count": null,
   "id": "e2ce9a63ebdc6402",
   "metadata": {
    "collapsed": false
   },
   "outputs": [],
   "source": [
    "dataframe.loc[[\"enfold\", \"superheterodyne\", \"glowing\", \"microbrew\", \"pinfish\"]][(dataframe['Char Count'] == 7) & (dataframe['Value'] == 87)].index.tolist()[0]"
   ]
  },
  {
   "cell_type": "code",
   "execution_count": null,
   "id": "a60c58acb3ee24bc",
   "metadata": {
    "collapsed": false
   },
   "outputs": [],
   "source": [
    "dataframe.loc[[\"enfold\", \"superheterodyne\", \"glowing\", \"microbrew\", \"pinfish\"]].query(expr='`Char Count` == 7 and `Value` == 87').index[0]"
   ]
  },
  {
   "cell_type": "markdown",
   "id": "6c11777f05ad76f2",
   "metadata": {
    "collapsed": false
   },
   "source": [
    "##### 5. What is the highest possible length of a word?"
   ]
  },
  {
   "cell_type": "code",
   "execution_count": null,
   "id": "df8076b899de595a",
   "metadata": {
    "collapsed": false
   },
   "outputs": [],
   "source": [
    "dataframe['Char Count'].max()"
   ]
  },
  {
   "cell_type": "markdown",
   "id": "c7ea50f16b851263",
   "metadata": {
    "collapsed": false
   },
   "source": [
    "##### 6. What is the word with the value of 319?"
   ]
  },
  {
   "cell_type": "code",
   "execution_count": null,
   "id": "fabbb4d406823f34",
   "metadata": {
    "collapsed": false
   },
   "outputs": [],
   "source": [
    "print(dataframe['Value'] == 319)\n",
    "print(dataframe[dataframe['Value'] == 319])\n",
    "dataframe[dataframe['Value'] == 319].index[0]"
   ]
  },
  {
   "cell_type": "markdown",
   "id": "e524d23e939cb3a1",
   "metadata": {
    "collapsed": false
   },
   "source": [
    "##### 7. What is the most common value?"
   ]
  },
  {
   "cell_type": "code",
   "execution_count": null,
   "id": "43cb558b887e1586",
   "metadata": {
    "collapsed": false
   },
   "outputs": [],
   "source": [
    "print(dataframe['Value'].value_counts())\n",
    "dataframe['Value'].value_counts().idxmax()"
   ]
  },
  {
   "cell_type": "code",
   "execution_count": null,
   "id": "4510dddbebfba3c2",
   "metadata": {
    "collapsed": false
   },
   "outputs": [],
   "source": [
    "dataframe['Value'].mode()"
   ]
  },
  {
   "cell_type": "markdown",
   "id": "383e597f770517c9",
   "metadata": {
    "collapsed": false
   },
   "source": [
    "##### 8. What is the shortest word with value `274`?"
   ]
  },
  {
   "cell_type": "code",
   "execution_count": null,
   "id": "a1662b4a60a16f3d",
   "metadata": {
    "collapsed": false
   },
   "outputs": [],
   "source": [
    "print(dataframe[dataframe['Value'] == 274].idxmin())\n",
    "dataframe[dataframe['Value'] == 274].idxmin()['Char Count']"
   ]
  },
  {
   "cell_type": "code",
   "execution_count": null,
   "id": "776b4e3a497248a7",
   "metadata": {
    "collapsed": false
   },
   "outputs": [],
   "source": [
    "print(dataframe[dataframe['Value'] == 274]['Char Count'])\n",
    "dataframe[dataframe['Value'] == 274]['Char Count'].idxmin()"
   ]
  },
  {
   "cell_type": "code",
   "execution_count": null,
   "id": "fa3408d016c51d5f",
   "metadata": {
    "collapsed": false
   },
   "outputs": [],
   "source": [
    "print(dataframe[dataframe['Value'] == 274].sort_values(by='Char Count'))\n",
    "print(dataframe[dataframe['Value'] == 274].sort_values(by='Char Count').iloc[0])\n",
    "dataframe[dataframe['Value'] == 274].sort_values(by='Char Count').index[0]"
   ]
  },
  {
   "cell_type": "markdown",
   "id": "aa7df167574e9bfa",
   "metadata": {
    "collapsed": false
   },
   "source": [
    "##### 9. Create a column `Ratio` which represents the 'Value Ratio' of a word"
   ]
  },
  {
   "cell_type": "code",
   "execution_count": null,
   "id": "121b01340715652b",
   "metadata": {
    "collapsed": false
   },
   "outputs": [],
   "source": [
    "dataframe['Ratio'] = dataframe['Value'] / dataframe['Char Count']\n",
    "dataframe"
   ]
  },
  {
   "cell_type": "markdown",
   "id": "ebff8620279ba85d",
   "metadata": {
    "collapsed": false
   },
   "source": [
    "##### 10. What is the maximum value of `Ratio`?"
   ]
  },
  {
   "cell_type": "code",
   "execution_count": null,
   "id": "b2ef9e6123855451",
   "metadata": {
    "collapsed": false
   },
   "outputs": [],
   "source": [
    "dataframe['Ratio'].max()"
   ]
  },
  {
   "cell_type": "markdown",
   "id": "7295d88735fbbdff",
   "metadata": {
    "collapsed": false
   },
   "source": [
    "##### 11. What word is the one with the highest `Ratio`?"
   ]
  },
  {
   "cell_type": "code",
   "execution_count": null,
   "id": "d1eb683e00f9980e",
   "metadata": {
    "collapsed": false
   },
   "outputs": [],
   "source": [
    "dataframe['Ratio'].idxmax()"
   ]
  },
  {
   "cell_type": "code",
   "execution_count": null,
   "id": "e9de17b3e477eadd",
   "metadata": {
    "collapsed": false
   },
   "outputs": [],
   "source": [
    "dataframe[dataframe['Ratio'] == dataframe['Ratio'].max()].index[0]"
   ]
  },
  {
   "cell_type": "markdown",
   "id": "9eedeb67c204422e",
   "metadata": {
    "collapsed": false
   },
   "source": [
    "##### 12. How many words have a `Ratio` of `10`?"
   ]
  },
  {
   "cell_type": "code",
   "execution_count": null,
   "id": "aa8e50600c5286d5",
   "metadata": {
    "collapsed": false
   },
   "outputs": [],
   "source": [
    "print(dataframe[dataframe['Ratio'] == 10])\n",
    "len(dataframe[dataframe['Ratio'] == 10])"
   ]
  },
  {
   "cell_type": "markdown",
   "id": "64abf1fe01918cc1",
   "metadata": {
    "collapsed": false
   },
   "source": [
    "##### 13. What is the maximum `Value` of all the words with a `Ratio` of `10`?"
   ]
  },
  {
   "cell_type": "code",
   "execution_count": null,
   "id": "1c2d672c303f2d8d",
   "metadata": {
    "collapsed": false
   },
   "outputs": [],
   "source": [
    "dataframe[dataframe['Ratio'] == 10][\"Value\"].max()"
   ]
  },
  {
   "cell_type": "markdown",
   "id": "a4bc0d33e2a6d2de",
   "metadata": {
    "collapsed": false
   },
   "source": [
    "##### 14. Of those words with a `Value` of `260`, what is the lowest `Char Count` found?"
   ]
  },
  {
   "cell_type": "code",
   "execution_count": null,
   "id": "af407aa2d8ac2b1e",
   "metadata": {
    "collapsed": false
   },
   "outputs": [],
   "source": [
    "dataframe[dataframe[\"Value\"] == 260][\"Char Count\"].min()"
   ]
  },
  {
   "cell_type": "markdown",
   "id": "f665ab53e12a39ee",
   "metadata": {
    "collapsed": false
   },
   "source": [
    "##### 15. Based on the previous task, what word is it?"
   ]
  },
  {
   "cell_type": "code",
   "execution_count": null,
   "id": "9422204d6819ebe9",
   "metadata": {
    "collapsed": false
   },
   "outputs": [],
   "source": [
    "dataframe[dataframe[\"Value\"] == 260][\"Char Count\"].idxmin()"
   ]
  },
  {
   "cell_type": "markdown",
   "id": "25b424655fcd1806",
   "metadata": {
    "collapsed": false
   },
   "source": [
    "##### 16. Find all the words with Char Count > avg char"
   ]
  },
  {
   "cell_type": "code",
   "execution_count": null,
   "id": "908a337bc8dfbc8d",
   "metadata": {
    "collapsed": false
   },
   "outputs": [],
   "source": [
    "print(dataframe[\"Char Count\"].mean())\n",
    "dataframe[dataframe[\"Char Count\"] > dataframe[\"Char Count\"].mean()].index.tolist()"
   ]
  },
  {
   "cell_type": "code",
   "execution_count": null,
   "id": "4e744efdc45fee32",
   "metadata": {
    "collapsed": false
   },
   "outputs": [],
   "source": [
    "mean = dataframe[\"Char Count\"].mean()\n",
    "dataframe.query('`Char Count` > @mean').index.tolist()"
   ]
  }
 ],
 "metadata": {
  "kernelspec": {
   "display_name": "Python 3",
   "language": "python",
   "name": "python3"
  },
  "language_info": {
   "codemirror_mode": {
    "name": "ipython",
    "version": 2
   },
   "file_extension": ".py",
   "mimetype": "text/x-python",
   "name": "python",
   "nbconvert_exporter": "python",
   "pygments_lexer": "ipython2",
   "version": "2.7.6"
  }
 },
 "nbformat": 4,
 "nbformat_minor": 5
}
