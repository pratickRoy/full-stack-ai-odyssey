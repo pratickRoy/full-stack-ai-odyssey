{
 "cells": [
  {
   "cell_type": "markdown",
   "id": "199067880997dd55",
   "metadata": {},
   "source": [
    "[YouTube Course Link](https://www.youtube.com/watch?v=gtjxAH8uaP0&t=2006s)\n",
    "[DataWars Course Link](https://app.datawars.io/project/54b07e96-f0da-4b5d-ba40-c87475e42b8e?page=1)"
   ]
  },
  {
   "cell_type": "code",
   "execution_count": null,
   "id": "bf9852f067918692",
   "metadata": {
    "collapsed": false
   },
   "outputs": [],
   "source": [
    "!pip install pandas==2.1.3 --force-reinstall\n",
    "!pip install matplotlib==3.8.2 --force-reinstall\n",
    "!pip install seaborn==0.13.0 --force-reinstall"
   ]
  },
  {
   "cell_type": "code",
   "execution_count": null,
   "id": "3e53845e3279287e",
   "metadata": {
    "collapsed": false
   },
   "outputs": [],
   "source": [
    "import pandas\n",
    "import matplotlib.pyplot\n",
    "import seaborn"
   ]
  },
  {
   "cell_type": "code",
   "execution_count": null,
   "id": "776a09278e7cc884",
   "metadata": {
    "collapsed": false
   },
   "outputs": [],
   "source": [
    "dataframe = pandas.read_csv(\"data.csv\")"
   ]
  },
  {
   "cell_type": "code",
   "execution_count": null,
   "id": "61f6013cb1dbc78b",
   "metadata": {
    "collapsed": false
   },
   "outputs": [],
   "source": [
    "dataframe.head()"
   ]
  },
  {
   "cell_type": "code",
   "execution_count": null,
   "id": "cc88131bad71f622",
   "metadata": {
    "collapsed": false
   },
   "outputs": [],
   "source": [
    "dataframe.info()"
   ]
  },
  {
   "cell_type": "code",
   "execution_count": null,
   "id": "e3cd97949a4396a7",
   "metadata": {
    "collapsed": false
   },
   "outputs": [],
   "source": [
    "dataframe.describe()"
   ]
  },
  {
   "cell_type": "code",
   "execution_count": null,
   "id": "28f1ccc1cf9b644e",
   "metadata": {
    "collapsed": false
   },
   "outputs": [],
   "source": [
    "dataframe['Type 1'].value_counts()"
   ]
  },
  {
   "cell_type": "code",
   "execution_count": null,
   "id": "38b23a4797ea0a52",
   "metadata": {
    "collapsed": false
   },
   "outputs": [],
   "source": [
    "dataframe['Type 1'].value_counts().plot(\n",
    "    kind='pie',\n",
    "    autopct='%1.1f%%',\n",
    "    cmap='tab20c',\n",
    "    figsize=(10, 8)\n",
    ")"
   ]
  },
  {
   "cell_type": "markdown",
   "id": "43c380bf5cf13455",
   "metadata": {
    "ExecuteTime": {
     "end_time": "2023-12-02T13:21:52.503756Z",
     "start_time": "2023-12-02T13:21:51.924919Z"
    }
   },
   "source": [
    "#### Distribution of Pokemon Totals:"
   ]
  },
  {
   "cell_type": "code",
   "execution_count": null,
   "id": "b27bd0189615ca91",
   "metadata": {
    "collapsed": false
   },
   "outputs": [],
   "source": [
    "dataframe['Total'].plot(kind='hist', figsize=(10,8))"
   ]
  },
  {
   "cell_type": "code",
   "execution_count": null,
   "id": "96e589f18b52560f",
   "metadata": {
    "collapsed": false
   },
   "outputs": [],
   "source": [
    "dataframe['Total'].plot(kind='box', vert=False, figsize=(10, 5))"
   ]
  },
  {
   "cell_type": "code",
   "execution_count": null,
   "id": "a8648bf313d5ecd6",
   "metadata": {
    "collapsed": false
   },
   "outputs": [],
   "source": [
    "seaborn.boxplot(data=dataframe, x='Total')"
   ]
  },
  {
   "cell_type": "markdown",
   "id": "b6a0ed95d5a71948",
   "metadata": {
    "ExecuteTime": {
     "end_time": "2023-12-02T13:21:53.165936Z",
     "start_time": "2023-12-02T13:21:53.156663Z"
    }
   },
   "source": [
    "#### Distribution of Legendary Pokemons:"
   ]
  },
  {
   "cell_type": "code",
   "execution_count": null,
   "id": "c72dfe4de4b184c7",
   "metadata": {
    "collapsed": false
   },
   "outputs": [],
   "source": [
    "dataframe['Legendary'].value_counts()"
   ]
  },
  {
   "cell_type": "code",
   "execution_count": null,
   "id": "94f4502e5c812ba0",
   "metadata": {
    "collapsed": false
   },
   "outputs": [],
   "source": [
    "dataframe['Legendary'].value_counts().plot(\n",
    "    kind='pie',\n",
    "    autopct='%1.1f%%',\n",
    "    cmap='Set3',\n",
    "    figsize=(10, 8)\n",
    ")"
   ]
  },
  {
   "cell_type": "markdown",
   "id": "5448ff5d9cc15fe",
   "metadata": {},
   "source": [
    "### Basic filtering\n",
    "\n",
    "Let's start with a few simple activities regarding filtering."
   ]
  },
  {
   "cell_type": "markdown",
   "id": "81dd47ef1f4a1a07",
   "metadata": {
    "ExecuteTime": {
     "end_time": "2023-12-02T13:21:53.787010Z",
     "start_time": "2023-12-02T13:21:53.431511Z"
    }
   },
   "source": [
    "##### 1. How many Pokemons exist with an `Attack` value greater than 150?"
   ]
  },
  {
   "cell_type": "code",
   "execution_count": null,
   "id": "895e0369087f1f28",
   "metadata": {
    "collapsed": false
   },
   "outputs": [],
   "source": [
    "seaborn.boxplot(data=dataframe, x='Attack')"
   ]
  },
  {
   "cell_type": "code",
   "execution_count": null,
   "id": "a7b7221d716e3cca",
   "metadata": {
    "collapsed": false
   },
   "outputs": [],
   "source": [
    "print(dataframe['Attack'] > 150)\n",
    "print(dataframe[dataframe['Attack'] > 150])\n",
    "len(dataframe[dataframe['Attack'] > 150])"
   ]
  },
  {
   "cell_type": "markdown",
   "id": "191f1dd7fe45f0bc",
   "metadata": {
    "ExecuteTime": {
     "end_time": "2023-12-02T13:21:54.058807Z",
     "start_time": "2023-12-02T13:21:53.799992Z"
    }
   },
   "source": [
    "##### 2. Select all pokemons with a Speed of `10` or less"
   ]
  },
  {
   "cell_type": "code",
   "execution_count": null,
   "id": "c939198041153d29",
   "metadata": {
    "collapsed": false
   },
   "outputs": [],
   "source": [
    "seaborn.boxplot(data=dataframe, x='Speed')"
   ]
  },
  {
   "cell_type": "code",
   "execution_count": null,
   "id": "9973702924aca93",
   "metadata": {
    "collapsed": false
   },
   "outputs": [],
   "source": [
    "print(dataframe.query('Speed <= 10'))\n",
    "dataframe[dataframe[\"Speed\"] <= 10]"
   ]
  },
  {
   "cell_type": "markdown",
   "id": "fee3f121ad872791",
   "metadata": {
    "ExecuteTime": {
     "end_time": "2023-12-02T13:21:54.162982Z",
     "start_time": "2023-12-02T13:21:54.099330Z"
    }
   },
   "source": [
    "##### 3. How many Pokemons have a `Sp. Def` value of 25 or less?"
   ]
  },
  {
   "cell_type": "code",
   "execution_count": null,
   "id": "11119905015cbf98",
   "metadata": {
    "collapsed": false
   },
   "outputs": [],
   "source": [
    "print(dataframe[dataframe[\"Sp. Def\"] <= 25])\n",
    "len(dataframe[dataframe[\"Sp. Def\"] <= 25])"
   ]
  },
  {
   "cell_type": "markdown",
   "id": "a312f7e989514c18",
   "metadata": {
    "ExecuteTime": {
     "end_time": "2023-12-02T13:21:54.227315Z",
     "start_time": "2023-12-02T13:21:54.141410Z"
    }
   },
   "source": [
    "##### 4. Select all the Legendary pokemons"
   ]
  },
  {
   "cell_type": "code",
   "execution_count": null,
   "id": "a869c9ac5f3e24d5",
   "metadata": {
    "collapsed": false
   },
   "outputs": [],
   "source": [
    "dataframe[dataframe['Legendary'] == True]"
   ]
  },
  {
   "cell_type": "markdown",
   "id": "64fe46862006264b",
   "metadata": {},
   "source": [
    "##### 5. Find the outlier"
   ]
  },
  {
   "cell_type": "markdown",
   "id": "ce5897d0073a0823",
   "metadata": {
    "ExecuteTime": {
     "end_time": "2023-12-02T13:21:54.526572Z",
     "start_time": "2023-12-02T13:21:54.153608Z"
    }
   },
   "source": [
    "Find the pokemon that is clearly an outlier in terms of Attack / Defense: What's the Name of the pokemon that is a clear outlier (strong Defense, but very low Attack)."
   ]
  },
  {
   "cell_type": "code",
   "execution_count": null,
   "id": "b219651d6982d888",
   "metadata": {
    "collapsed": false
   },
   "outputs": [],
   "source": [
    "plot = seaborn.scatterplot(data=dataframe, x='Attack', y='Defense')"
   ]
  },
  {
   "cell_type": "code",
   "execution_count": null,
   "id": "4717057a101df613",
   "metadata": {
    "collapsed": false
   },
   "outputs": [],
   "source": [
    "print(dataframe.query('Attack < 20 and Defense > 200'))\n",
    "dataframe.query('Attack < 20 and Defense > 200')[\"Name\"].tolist()[0]"
   ]
  },
  {
   "cell_type": "markdown",
   "id": "a2518055fa946d65",
   "metadata": {},
   "source": [
    "### Advanced selection\n",
    "\n",
    "Now let's use boolean operators to create more advanced expressions"
   ]
  },
  {
   "cell_type": "markdown",
   "id": "51967088faeaf52f",
   "metadata": {
    "ExecuteTime": {
     "end_time": "2023-12-02T13:21:54.617321Z",
     "start_time": "2023-12-02T13:21:54.550453Z"
    }
   },
   "source": [
    "##### 6. How many Fire-Flying Pokemons are there?"
   ]
  },
  {
   "cell_type": "code",
   "execution_count": null,
   "id": "2fdd761d131f5acb",
   "metadata": {
    "collapsed": false
   },
   "outputs": [],
   "source": [
    "print(dataframe.query('`Type 1` == \"Fire\" and `Type 2` == \"Flying\"'))\n",
    "len(dataframe.query('`Type 1` == \"Fire\" and `Type 2` == \"Flying\"'))"
   ]
  },
  {
   "cell_type": "markdown",
   "id": "42f9d9d8ef079bcb",
   "metadata": {},
   "source": [
    "##### 7. How many 'Poison' pokemons are across both types?"
   ]
  },
  {
   "cell_type": "markdown",
   "id": "54146fae44593533",
   "metadata": {
    "ExecuteTime": {
     "end_time": "2023-12-02T13:21:54.675038Z",
     "start_time": "2023-12-02T13:21:54.573418Z"
    }
   },
   "source": [
    "How many pokemons exist that are of type Poison in either Type 1 or Type 2?"
   ]
  },
  {
   "cell_type": "code",
   "execution_count": null,
   "id": "585e1f677441ddaf",
   "metadata": {
    "collapsed": false
   },
   "outputs": [],
   "source": [
    "print(len(dataframe.query('`Type 1` == \"Poison\"')))\n",
    "print(len(dataframe.query('`Type 2` == \"Poison\"')))\n",
    "len(dataframe.query('`Type 1` == \"Poison\" or `Type 2` == \"Poison\"'))"
   ]
  },
  {
   "cell_type": "markdown",
   "id": "f254309d170a9e2b",
   "metadata": {
    "ExecuteTime": {
     "end_time": "2023-12-02T13:21:54.675402Z",
     "start_time": "2023-12-02T13:21:54.595847Z"
    }
   },
   "source": [
    "##### 8. What pokemon of `Type 1` *Ice* has the strongest defense?"
   ]
  },
  {
   "cell_type": "code",
   "execution_count": null,
   "id": "7d6938bd9b630875",
   "metadata": {
    "collapsed": false
   },
   "outputs": [],
   "source": [
    "id = dataframe.query('`Type 1` == \"Ice\"')[\"Defense\"].idxmax()\n",
    "dataframe.iloc[id][\"Name\"]"
   ]
  },
  {
   "cell_type": "markdown",
   "id": "c3eb4a120930704d",
   "metadata": {
    "ExecuteTime": {
     "end_time": "2023-12-02T13:21:54.780331Z",
     "start_time": "2023-12-02T13:21:54.649811Z"
    }
   },
   "source": [
    "##### 9. What's the most common type 1 of Legendary Pokemons?"
   ]
  },
  {
   "cell_type": "code",
   "execution_count": null,
   "id": "dbb3d76b4774f27",
   "metadata": {
    "collapsed": false
   },
   "outputs": [],
   "source": [
    "dataframe.query('`Legendary` == True')"
   ]
  },
  {
   "cell_type": "code",
   "execution_count": null,
   "id": "243cf8d1cf24ccf",
   "metadata": {
    "collapsed": false
   },
   "outputs": [],
   "source": [
    "dataframe.query('`Legendary` == True')[\"Type 1\"]"
   ]
  },
  {
   "cell_type": "code",
   "execution_count": null,
   "id": "203d4044c6cab4ca",
   "metadata": {
    "collapsed": false
   },
   "outputs": [],
   "source": [
    "dataframe.query('`Legendary` == True')[\"Type 1\"].mode().tolist()[0]"
   ]
  },
  {
   "cell_type": "markdown",
   "id": "bf0ff4750cf0561e",
   "metadata": {},
   "source": [
    "##### 10. What's the most powerful pokemon from the first 3 generations, of type water?"
   ]
  },
  {
   "cell_type": "markdown",
   "id": "59a1bf0f9494710c",
   "metadata": {
    "ExecuteTime": {
     "end_time": "2023-12-02T13:21:54.889383Z",
     "start_time": "2023-12-02T13:21:54.720887Z"
    }
   },
   "source": [
    "Find the most powerful Pokemon (by Total) from the first 3 generations that is of Type 1 'Water'. Enter its name below. In case of multiple names, enter the first name."
   ]
  },
  {
   "cell_type": "code",
   "execution_count": null,
   "id": "d398d5b78ed5c153",
   "metadata": {
    "collapsed": false
   },
   "outputs": [],
   "source": [
    "dataframe['Generation'].min()"
   ]
  },
  {
   "cell_type": "code",
   "execution_count": null,
   "id": "b879b3f2480a8526",
   "metadata": {
    "collapsed": false
   },
   "outputs": [],
   "source": [
    "dataframe.query('`Type 1` == \"Water\" and `Generation` <= 3')"
   ]
  },
  {
   "cell_type": "code",
   "execution_count": null,
   "id": "56c0a3cd8b3acd2d",
   "metadata": {
    "collapsed": false
   },
   "outputs": [],
   "source": [
    "dataframe.query('`Type 1` == \"Water\" and `Generation` <= 3').sort_values(by='Total', ascending=False)"
   ]
  },
  {
   "cell_type": "code",
   "execution_count": null,
   "id": "7fb49d1038eafa18",
   "metadata": {
    "collapsed": false
   },
   "outputs": [],
   "source": [
    "id = dataframe.query('`Type 1` == \"Water\" and `Generation` <= 3')[\"Total\"].idxmax()\n",
    "dataframe.iloc[id][\"Name\"]"
   ]
  },
  {
   "cell_type": "markdown",
   "id": "78409289f6775363",
   "metadata": {},
   "source": [
    "##### 11. What's the most powerful Dragon from the last two generations?"
   ]
  },
  {
   "cell_type": "markdown",
   "id": "4a952049eb98a9b9",
   "metadata": {
    "ExecuteTime": {
     "end_time": "2023-12-02T13:21:54.946240Z",
     "start_time": "2023-12-02T13:21:54.814892Z"
    }
   },
   "source": [
    "Find the most powerful pokemon (by Total) that is of type Dragon (either Type 1 or Type 2) and from the last two generations. Enter its name below. If there are multiple, enter the name of the Dragon with higher index value."
   ]
  },
  {
   "cell_type": "code",
   "execution_count": null,
   "id": "5d442228b2d33a1d",
   "metadata": {
    "collapsed": false
   },
   "outputs": [],
   "source": [
    "dataframe[\"Generation\"].max()"
   ]
  },
  {
   "cell_type": "code",
   "execution_count": null,
   "id": "8047e678764969a2",
   "metadata": {
    "collapsed": false
   },
   "outputs": [],
   "source": [
    "(dataframe\n",
    " .query('`Type 1` == \"Dragon\" or `Type 2` == \"Dragon\"')\n",
    " .query('`Generation` >= 5')\n",
    " .sort_values(by='Total', ascending=False))"
   ]
  },
  {
   "cell_type": "markdown",
   "id": "7e3099b639aa2535",
   "metadata": {},
   "source": [
    "##### 12. Select most powerful Fire-type pokemons"
   ]
  },
  {
   "cell_type": "markdown",
   "id": "57b85ce90eba69bc",
   "metadata": {
    "ExecuteTime": {
     "end_time": "2023-12-02T13:21:55.120391Z",
     "start_time": "2023-12-02T13:21:54.885871Z"
    }
   },
   "source": [
    "Select all pokemons that have an Attack value above 100 and Type 1 equals to Fire (ignore Type 2 in this activity)."
   ]
  },
  {
   "cell_type": "code",
   "execution_count": null,
   "id": "938c06e6e24b8988",
   "metadata": {
    "collapsed": false
   },
   "outputs": [],
   "source": [
    "dataframe.query('`Type 1` == \"Fire\" and `Attack` > 100')"
   ]
  },
  {
   "cell_type": "markdown",
   "id": "c52cc40b67816746",
   "metadata": {},
   "source": [
    "##### 13. Select all Water-type, Flying-type pokemons"
   ]
  },
  {
   "cell_type": "markdown",
   "id": "429709392f5c01ba",
   "metadata": {
    "ExecuteTime": {
     "end_time": "2023-12-02T13:21:55.178297Z",
     "start_time": "2023-12-02T13:21:54.928923Z"
    }
   },
   "source": [
    "Select those pokemons that are of Type 1 Water and Type 2 Flying."
   ]
  },
  {
   "cell_type": "code",
   "execution_count": null,
   "id": "1127134e630ea23",
   "metadata": {
    "collapsed": false
   },
   "outputs": [],
   "source": [
    "dataframe.query('`Type 1` == \"Water\" and `Type 2` == \"Flying\"')"
   ]
  },
  {
   "cell_type": "markdown",
   "id": "ea8a76ef80eaeecb",
   "metadata": {},
   "source": [
    "##### 14. Select specific columns of Legendary pokemons of type Fire"
   ]
  },
  {
   "cell_type": "markdown",
   "id": "12534e43c204f6c6",
   "metadata": {
    "ExecuteTime": {
     "end_time": "2023-12-02T13:21:55.235839Z",
     "start_time": "2023-12-02T13:21:54.940386Z"
    }
   },
   "source": [
    "Perform a selection in your Dataframe of all the Legendary pokemons that are of Type 1 Fire. But select only the columns Name, Attack and Generation."
   ]
  },
  {
   "cell_type": "code",
   "execution_count": null,
   "id": "45d5a460cb3bd723",
   "metadata": {
    "collapsed": false
   },
   "outputs": [],
   "source": [
    "dataframe.query('`Type 1` == \"Fire\" and `Legendary` == True')[[\"Name\", \"Attack\", \"Generation\"]]"
   ]
  },
  {
   "cell_type": "markdown",
   "id": "bd7a3c55e7ea4f47",
   "metadata": {},
   "source": [
    "##### 15. Select Slow and Fast pokemons"
   ]
  },
  {
   "cell_type": "markdown",
   "id": "e1bee3de829ec58c",
   "metadata": {
    "ExecuteTime": {
     "end_time": "2023-12-02T13:21:55.730729Z",
     "start_time": "2023-12-02T13:21:54.982282Z"
    }
   },
   "source": [
    "Select those pokemons that are either very slow (with Speed below the bottom 5%) or very fast (Speed above top 95%)."
   ]
  },
  {
   "cell_type": "code",
   "execution_count": null,
   "id": "6df8537096c829b2",
   "metadata": {
    "collapsed": false
   },
   "outputs": [],
   "source": [
    "matplotlib.pyplot.figure(figsize=(10, 5))\n",
    "histogram = seaborn.histplot(\n",
    "    data=dataframe[\"Speed\"],\n",
    "    bins=100,\n",
    ")\n",
    "histogram.axvline(x=dataframe[\"Speed\"].quantile(q=0.05), color=\"red\")\n",
    "histogram.axvline(x=dataframe[\"Speed\"].quantile(q=0.95), color=\"green\")"
   ]
  },
  {
   "cell_type": "code",
   "execution_count": null,
   "id": "e76c69d377f19791",
   "metadata": {
    "collapsed": false
   },
   "outputs": [],
   "source": [
    "bottom = dataframe[\"Speed\"].quantile(q=0.05)\n",
    "top = dataframe[\"Speed\"].quantile(q=0.95)\n",
    "dataframe.query('`Speed` < @bottom or `Speed` > @top')"
   ]
  },
  {
   "cell_type": "markdown",
   "id": "7d419311d7fd2f71",
   "metadata": {},
   "source": [
    "##### 16. Find the Ultra Powerful Legendary Pokemon"
   ]
  },
  {
   "cell_type": "markdown",
   "id": "7df51a6910493d5b",
   "metadata": {
    "ExecuteTime": {
     "end_time": "2023-12-02T13:21:56.264653Z",
     "start_time": "2023-12-02T13:21:55.597456Z"
    }
   },
   "source": [
    "Create a scatter plot of Defense to Attack, Marking Legendary and non Legendary Pokemons by different Colours, add a line pointing to pokmon with defense 140 and attack 150, asking whos that?. Then print the name of that pokemon"
   ]
  },
  {
   "cell_type": "code",
   "execution_count": null,
   "id": "3a3ef36312c3b497",
   "metadata": {
    "collapsed": false
   },
   "outputs": [],
   "source": [
    "scatterplot = seaborn.scatterplot(\n",
    "    data=dataframe,\n",
    "    x='Defense',\n",
    "    y='Attack',\n",
    "    hue='Legendary'\n",
    ")\n",
    "scatterplot.annotate(\n",
    "    xy=(140, 150),\n",
    "    xytext=(150, 130),\n",
    "    text=\"Who's That?\",\n",
    "    color=\"Red\",\n",
    "    arrowprops=dict(arrowstyle=\"->\", color=\"red\")\n",
    ")"
   ]
  },
  {
   "cell_type": "code",
   "execution_count": null,
   "id": "858add5caf57b653",
   "metadata": {
    "collapsed": false
   },
   "outputs": [],
   "source": [
    "dataframe.query('`Attack` == 150 and `Defense` == 140')[\"Name\"].tolist()[0]"
   ]
  }
 ],
 "metadata": {
  "kernelspec": {
   "display_name": "Python 3",
   "language": "python",
   "name": "python3"
  },
  "language_info": {
   "codemirror_mode": {
    "name": "ipython",
    "version": 2
   },
   "file_extension": ".py",
   "mimetype": "text/x-python",
   "name": "python",
   "nbconvert_exporter": "python",
   "pygments_lexer": "ipython2",
   "version": "2.7.6"
  }
 },
 "nbformat": 4,
 "nbformat_minor": 5
}
